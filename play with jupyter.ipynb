{
 "cells": [
  {
   "cell_type": "code",
   "execution_count": 1,
   "metadata": {},
   "outputs": [],
   "source": [
    "i = 1\n",
    "j = 2"
   ]
  },
  {
   "cell_type": "code",
   "execution_count": 2,
   "metadata": {},
   "outputs": [],
   "source": [
    "k = i + j"
   ]
  },
  {
   "cell_type": "code",
   "execution_count": 3,
   "metadata": {},
   "outputs": [
    {
     "data": {
      "text/plain": [
       "3"
      ]
     },
     "execution_count": 3,
     "metadata": {},
     "output_type": "execute_result"
    }
   ],
   "source": [
    "k"
   ]
  },
  {
   "cell_type": "markdown",
   "metadata": {},
   "source": [
    "# Heading\n",
    "\n",
    "- list\n",
    "- list\n",
    "- list\n",
    "\n",
    "![](https://www.google.com/imgres?imgurl=https%3A%2F%2Fhips.hearstapps.com%2Fvader-prod.s3.amazonaws.com%2F1597759437-51FCd4WAX-L.jpg%3Fcrop%3D0.667xw%3A1xh%3Bcenter%2Ctop%26resize%3D320%253A%252A&imgrefurl=https%3A%2F%2Fwww.housebeautiful.com%2Flifestyle%2Fgardening%2Fa33626165%2Fmonstera-deliciosa-swiss-cheese-plant%2F&tbnid=ZhBzlUoDzOqSbM&vet=12ahUKEwi4rdjdw6LzAhWHGcAKHfB2B1YQMygCegUIARDXAg..i&docid=gn-sSbbIHy-G0M&w=320&h=479&itg=1&q=cheese%20plant&client=safari&ved=2ahUKEwi4rdjdw6LzAhWHGcAKHfB2B1YQMygCegUIARDXAg.png)\n",
    " \n",
    "**Cheeese Plant**\n"
   ]
  },
  {
   "cell_type": "code",
   "execution_count": null,
   "metadata": {},
   "outputs": [],
   "source": []
  }
 ],
 "metadata": {
  "kernelspec": {
   "display_name": "Python 3",
   "language": "python",
   "name": "python3"
  },
  "language_info": {
   "codemirror_mode": {
    "name": "ipython",
    "version": 3
   },
   "file_extension": ".py",
   "mimetype": "text/x-python",
   "name": "python",
   "nbconvert_exporter": "python",
   "pygments_lexer": "ipython3",
   "version": "3.8.5"
  }
 },
 "nbformat": 4,
 "nbformat_minor": 4
}
